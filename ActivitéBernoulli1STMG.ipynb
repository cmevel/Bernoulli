{
 "cells": [
  {
   "cell_type": "markdown",
   "metadata": {
    "colab_type": "text",
    "id": "qhvCTdKOioRL"
   },
   "source": [
    "# Activité découverte d'une épreuve de Bernoulli et simulations d'échantillons"
   ]
  },
  {
   "cell_type": "markdown",
   "metadata": {
    "colab_type": "text",
    "id": "bo5E4X8di9YH"
   },
   "source": [
    "En période de confinement, jouer à un jeu sur console est une occupation comme une autre. Malheureusement, Emma et Noan n'arrivent pas à se mettre d'accord sur le choix du jeu. La première serait davantage intéressée vers un jeu d'aventure alors que le deuxième lui voudrait mettre un jeu de combat. \n",
    "Pour faciliter leur décision, leurs parents les invitent à jouer au jeu du **PILE ou FACE**.\n",
    "*Emma choisit le côté PILE* et *Noan le côté FACE*."
   ]
  },
  {
   "cell_type": "markdown",
   "metadata": {
    "colab_type": "text",
    "id": "Dx56q0bJk_Qf"
   },
   "source": [
    "**1°) Situation 0:** Ils lancent une pièce non truquée. \n",
    "* Quelle est la probabilité que le côté visible soit PILE ? On l'appellera la proportion théorique *p*.\n",
    "* Et FACE ?"
   ]
  },
  {
   "cell_type": "markdown",
   "metadata": {
    "colab_type": "text",
    "id": "hstlnSX9lYjl"
   },
   "source": [
    "Emma considère que Noan triche lorsqu'il lance la pièce et que cela influe sur le résultat. Aussi, leurs parents les convient à utiliser une solution programmée pour que l'humain n'intervienne plus dans le lancer.\n",
    "\"Bonne idée\" se disent-ils à ce moment-là... "
   ]
  },
  {
   "cell_type": "markdown",
   "metadata": {
    "colab_type": "text",
    "id": "R7I0rJdWmEEN"
   },
   "source": [
    " **2°)** **Situation 1:** Voici une fonction en langage Python. \n",
    "\n",
    "1.   Exécuter-la en cliquant sur la flèche\n",
    "      * Que vous renvoie-t-elle ? \n",
    "2.   Exécuter la plusieurs fois.\n",
    "      * Est-ce toujours la même réponse ?\n",
    "3.   Comment définir le PILE et le FACE pour qu'il puisse répondre au besoin d'Emma et Noan ?"
   ]
  },
  {
   "cell_type": "code",
   "execution_count": 1,
   "metadata": {
    "colab": {
     "base_uri": "https://localhost:8080/",
     "height": 34
    },
    "colab_type": "code",
    "id": "wxpg9uPymOve",
    "outputId": "c80a9c67-c844-4271-df29-e736e9459258"
   },
   "outputs": [
    {
     "name": "stdout",
     "output_type": "stream",
     "text": [
      "0\n"
     ]
    }
   ],
   "source": [
    "from random import *\n",
    "\n",
    "def piece():\n",
    "  x=randint(0,1)        #randint(a,b) retourne aléatoirement un entier entre a et b\n",
    "  return x\n",
    "\n",
    "print (piece())"
   ]
  },
  {
   "cell_type": "markdown",
   "metadata": {
    "colab_type": "text",
    "id": "xDFN6SPLznHY"
   },
   "source": [
    "**3°)** **Situation 2 :** Après reflexion, Emma et Noan estime qu'il faudrait avoir une majorité de piles ou de faces lorsqu'on lance la pièce un nombre de fois donné. Leurs parents leurs proposent ce programme."
   ]
  },
  {
   "cell_type": "code",
   "execution_count": 3,
   "metadata": {
    "colab": {
     "base_uri": "https://localhost:8080/",
     "height": 34
    },
    "colab_type": "code",
    "id": "2u_gPJyBinLU",
    "outputId": "86babdec-3147-4c5b-a485-ba1985209ed1"
   },
   "outputs": [
    {
     "name": "stdout",
     "output_type": "stream",
     "text": [
      "4\n"
     ]
    }
   ],
   "source": [
    "from random import *\n",
    "\n",
    "def jeu1():\n",
    "  S=0\n",
    "  for i in range (5):     #range (5) signifie que i prend successivement les valeurs de la liste [0,1,2,3,4]\n",
    "    x=randint(0,1)        #randint(a,b) retourne aléatoirement un entier entre a et b\n",
    "    S=S+x\n",
    "  return (S)\n",
    "\n",
    "print (jeu1())"
   ]
  },
  {
   "cell_type": "markdown",
   "metadata": {
    "colab_type": "text",
    "id": "Ok6mPV0V1cHl"
   },
   "source": [
    "1.   Combien de fois la pièce est-elle lancée ?\n",
    "2.   Que représente la variable S retournée par la fonction jeu1() ?\n",
    "3.   Est-ce toujours le même enfant qui gagne ?"
   ]
  },
  {
   "cell_type": "markdown",
   "metadata": {
    "colab_type": "text",
    "id": "hUthA01C2euv"
   },
   "source": [
    "4°) **Situation 3:** La fonction jeu1() a été modifiée. \n",
    "* Exécuter-le.\n",
    "* Interpréter le résultat dans le contexte de l'exercice. "
   ]
  },
  {
   "cell_type": "code",
   "execution_count": 286,
   "metadata": {
    "colab": {
     "base_uri": "https://localhost:8080/",
     "height": 34
    },
    "colab_type": "code",
    "id": "QKmb8YsfGXiu",
    "outputId": "7541b86a-be37-4d67-e0bc-fe8d8a59b4a0"
   },
   "outputs": [
    {
     "name": "stdout",
     "output_type": "stream",
     "text": [
      "0.4\n"
     ]
    }
   ],
   "source": [
    "from random import *\n",
    "\n",
    "def jeu2():\n",
    "  S=0\n",
    "  for i in range (10):     \n",
    "    x=randint (0,1) \n",
    "    S=S+x\n",
    "  return (S/10)\n",
    "\n",
    "print(jeu2())"
   ]
  },
  {
   "cell_type": "markdown",
   "metadata": {
    "colab_type": "text",
    "id": "LkYHzENLG4-u"
   },
   "source": [
    "5°) On appelle épreuve de Bernoulli, une expérience aléatoire n'ayant que deux issues. L'une est considérée comme le Succès et l'autre comme l'Echec. Laquelle des situations 1, 2 ou 3 est une épreuve de Bernoulli?"
   ]
  },
  {
   "cell_type": "markdown",
   "metadata": {
    "colab_type": "text",
    "id": "c1hX9CJCImV3"
   },
   "source": [
    "6°) La probabilité d'avoir le Succès est le paramètre *p* de cette épreuve. Quelle est la valeur du paramètre *p* dans la situation 2 ? "
   ]
  },
  {
   "cell_type": "markdown",
   "metadata": {
    "colab_type": "text",
    "id": "vTwJVgC5JDfr"
   },
   "source": [
    "7°) On définit la variable aléatoire X qui prend la valeur 1 en cas de succès et 0 en cas d'échec.\n",
    "Ainsi P(X=1) signifie obtenir un succès dans le jeu situation 1.\n",
    "* Que signifie P(X=0) ? \n",
    "* Quelle est sa valeur ?"
   ]
  },
  {
   "cell_type": "markdown",
   "metadata": {
    "colab_type": "text",
    "id": "n8nZBHiNJm0g"
   },
   "source": [
    "8°) Déterminer alors la loi de probabilité de la situation 1 que l'on appellera Loi de Bernoulli."
   ]
  },
  {
   "cell_type": "markdown",
   "metadata": {
    "colab_type": "text",
    "id": "vGI6FTCKJ1lD"
   },
   "source": [
    "9°) Déterminer l'espérance de la variable aléatoire X dans la situation 1."
   ]
  },
  {
   "cell_type": "markdown",
   "metadata": {
    "colab_type": "text",
    "id": "yfNGSpACLgUH"
   },
   "source": [
    "**10°) Situation 4:** Simulation sur un échantillon\n",
    "\n",
    "*   Exécuter-le.\n",
    "*   Interpréter le résultat retourné par la fonction *echantillon1()*\n",
    "\n"
   ]
  },
  {
   "cell_type": "code",
   "execution_count": 4,
   "metadata": {
    "colab": {
     "base_uri": "https://localhost:8080/",
     "height": 34
    },
    "colab_type": "code",
    "id": "1RRstItbNpUS",
    "outputId": "94d7fac2-9425-4b18-d3db-b332e37d327e"
   },
   "outputs": [
    {
     "name": "stdout",
     "output_type": "stream",
     "text": [
      "[1, 0, 0, 0, 0, 0, 1, 0, 0, 0]\n"
     ]
    }
   ],
   "source": [
    "from random import *\n",
    "\n",
    "def echantillon1():\n",
    "  L=[]             #Création d'une liste vide\n",
    "  for i in range (10):\n",
    "    L.append(piece())      #Remplir la liste L \n",
    "  return (L)\n",
    "\n",
    "print (echantillon1())"
   ]
  },
  {
   "cell_type": "markdown",
   "metadata": {
    "colab_type": "text",
    "id": "nGjDrdJLbOc4"
   },
   "source": [
    "**11°) Histogramme d'une nouvelle situation :**\n",
    "\n",
    "*   Exécuter-le\n",
    "*   Modifier-le pour que vous obteniez une simulation fournissant les fréquences observées de 1 pour 1000 échantillons établit avec:\n",
    "    * 50 lancers d'une pièce.\n",
    "    * 100 lancers d'une pièce.\n",
    "    * Interpréter les modifications de l'histogramme.\n",
    "\n"
   ]
  },
  {
   "cell_type": "code",
   "execution_count": 5,
   "metadata": {
    "colab": {
     "base_uri": "https://localhost:8080/",
     "height": 299
    },
    "colab_type": "code",
    "id": "45BKx_c7ceHv",
    "outputId": "b3579a67-01d2-4f94-e863-a0c9ade19a50"
   },
   "outputs": [
    {
     "name": "stdout",
     "output_type": "stream",
     "text": [
      "[0.4, 0.8, 0.6, 0.5, 0.3, 0.6, 0.7, 0.4, 0.5, 0.4, 0.5, 0.4, 0.5, 0.5, 0.4, 0.4, 0.5, 0.6, 0.8, 0.4, 0.6, 0.6, 0.6, 0.7, 0.4, 0.5, 0.4, 0.7, 0.5, 0.5, 0.5, 0.3, 0.3, 0.6, 0.4, 0.2, 0.6, 0.3, 0.5, 0.7, 0.6, 0.5, 0.5, 0.5, 0.2, 0.4, 0.4, 0.6, 0.5, 0.7, 0.2, 0.6, 0.3, 0.3, 0.3, 0.6, 0.4, 0.6, 0.5, 0.2, 0.5, 0.5, 0.6, 0.5, 0.3, 0.3, 0.4, 0.7, 0.3, 0.5, 0.4, 0.6, 0.5, 0.3, 0.5, 0.4, 0.8, 0.5, 0.5, 0.7, 0.7, 0.7, 0.7, 0.6, 0.4, 0.7, 0.4, 0.7, 0.5, 0.4, 0.6, 0.6, 0.7, 0.5, 0.4, 0.4, 0.7, 0.4, 0.6, 0.7, 0.3, 0.4, 0.6, 0.8, 0.3, 0.5, 0.6, 0.6, 0.6, 0.7, 0.3, 0.3, 0.7, 0.6, 0.4, 0.6, 0.4, 0.5, 0.5, 0.6, 0.4, 0.4, 0.6, 0.6, 0.5, 0.7, 0.5, 0.6, 0.3, 0.6, 0.4, 0.6, 0.7, 0.8, 0.3, 0.5, 0.6, 0.5, 0.5, 0.7, 0.2, 0.4, 0.6, 0.5, 0.3, 0.5, 0.2, 0.4, 0.6, 0.1, 0.6, 0.4, 0.3, 0.5, 0.6, 0.9, 0.4, 0.3, 0.4, 0.9, 0.4, 0.8, 0.5, 0.4, 0.5, 0.6, 0.5, 0.5, 0.4, 0.5, 0.7, 0.7, 0.4, 0.5, 0.5, 0.7, 0.1, 0.3, 0.5, 0.3, 0.2, 0.5, 0.2, 0.5, 0.6, 0.7, 0.3, 0.6, 0.4, 0.8, 0.2, 0.5, 0.2, 0.3, 0.2, 0.7, 0.5, 0.5, 0.4, 0.4, 0.4, 0.5, 0.5, 0.2, 0.7, 0.5, 0.7, 0.3, 0.6, 0.5, 0.5, 0.7, 0.4, 0.4, 0.7, 0.3, 0.4, 0.7, 0.3, 0.4, 0.4, 0.4, 0.7, 0.4, 0.4, 0.5, 0.5, 0.5, 0.5, 0.5, 0.7, 0.5, 0.4, 0.5, 0.4, 0.4, 0.7, 0.4, 0.4, 0.2, 0.7, 0.5, 0.7, 0.3, 0.5, 0.6, 0.5, 0.7, 0.6, 0.7, 0.4, 0.6, 0.5, 0.5, 0.3, 0.4, 0.5, 0.8, 0.5, 0.7, 0.5, 0.6, 0.4, 0.1, 0.6, 0.4, 0.6, 0.5, 0.4, 0.5, 0.3, 0.5, 0.6, 0.4, 0.6, 0.6, 0.6, 0.6, 0.5, 0.4, 0.3, 0.4, 0.6, 0.4, 0.5, 0.2, 0.5, 0.5, 0.5, 0.4, 0.3, 0.5, 0.4, 0.9, 0.4, 0.5, 0.6, 0.3, 0.5, 0.6, 0.6, 0.5, 0.7, 0.6, 0.5, 0.3, 0.5, 0.4, 0.3, 0.5, 0.5, 0.3, 0.6, 0.2, 0.4, 0.7, 0.4, 0.4, 0.3, 0.4, 0.6, 0.5, 0.6, 0.5, 0.5, 0.7, 0.4, 0.4, 0.4, 0.4, 0.3, 0.4, 0.5, 0.4, 0.5, 0.5, 0.5, 0.5, 0.7, 0.4, 0.2, 0.4, 0.5, 0.1, 0.4, 0.4, 0.8, 0.3, 0.4, 0.4, 0.2, 0.5, 0.6, 0.4, 0.5, 0.3, 0.3, 0.6, 0.8, 0.4, 0.3, 0.3, 0.7, 0.8, 0.6, 0.7, 0.4, 0.5, 0.7, 0.8, 0.6, 0.4, 0.5, 0.7, 0.7, 0.7, 0.5, 0.6, 0.5, 0.4, 0.4, 0.5, 0.7, 0.5, 0.3, 0.7, 0.6, 0.6, 0.3, 0.4, 0.6, 0.7, 0.6, 0.4, 0.6, 0.2, 0.6, 0.5, 0.6, 0.4, 0.5, 0.5, 0.4, 0.2, 0.5, 0.3, 0.6, 0.3, 0.5, 0.4, 0.4, 0.5, 0.4, 0.9, 0.6, 0.4, 0.4, 0.4, 0.3, 0.4, 0.8, 0.5, 0.3, 0.5, 0.6, 0.6, 0.5, 0.4, 0.4, 0.6, 0.7, 0.7, 0.4, 0.5, 0.4, 0.6, 0.4, 0.6, 0.3, 0.5, 0.5, 0.4, 0.5, 0.5, 0.3, 0.8, 0.3, 0.5, 0.4, 0.4, 0.4, 0.2, 0.5, 0.4, 0.3, 0.6, 0.6, 0.4, 0.6, 0.3, 0.7, 0.5, 0.4, 0.7, 0.1, 0.5, 0.4, 0.6, 0.4, 0.7, 0.5, 0.6, 0.4, 0.6, 0.6, 0.7, 0.4, 0.4, 0.7, 0.6, 0.5, 0.5, 0.4, 0.5, 0.5, 0.5, 0.5, 0.7, 0.6, 0.4, 0.4, 0.3, 0.3, 0.2, 0.5, 0.5, 0.6, 0.6, 0.3, 0.7, 0.5, 0.4, 0.4, 0.7, 0.7, 0.3, 0.3, 0.3, 0.6, 0.6, 0.6, 0.5, 0.8, 0.5, 0.5, 0.7, 0.4, 0.7, 0.8, 0.6, 0.7, 0.5, 0.2, 0.5, 0.3, 0.6, 0.5, 0.3, 0.4, 0.4, 0.6, 0.7, 0.3, 0.4, 0.3, 0.4, 0.4, 0.8, 0.6, 0.5, 0.4, 0.5, 0.4, 0.2, 0.7, 0.8, 0.7, 0.5, 0.7, 0.8, 0.8, 0.4, 0.6, 0.6, 0.4, 0.4, 0.5, 0.3, 0.6, 0.4, 0.6, 0.5, 0.4, 0.6, 0.3, 0.4, 0.6, 0.7, 0.5, 0.3, 0.5, 0.4, 0.3, 0.3, 0.6, 0.2, 0.6, 0.3, 0.6, 0.4, 0.5, 0.6, 0.5, 0.4, 0.6, 0.3, 0.3, 0.4, 0.4, 0.9, 0.6, 0.4, 0.5, 0.3, 0.6, 0.1, 0.6, 0.4, 0.5, 0.5, 0.4, 0.9, 0.3, 0.5, 0.2, 0.4, 0.6, 0.4, 0.6, 0.7, 0.8, 0.5, 0.3, 0.5, 0.5, 0.7, 0.9, 0.2, 0.5, 0.4, 0.5, 0.6, 0.3, 0.6, 0.4, 0.3, 0.5, 0.5, 0.4, 0.6, 0.6, 0.4, 0.4, 0.3, 0.3, 0.6, 0.5, 0.6, 0.3, 0.4, 0.4, 0.7, 0.3, 0.3, 0.4, 0.3, 0.5, 0.5, 0.3, 0.5, 0.5, 0.7, 0.5, 0.6, 0.5, 0.5, 0.8, 0.4, 0.7, 0.5, 0.7, 0.4, 0.7, 0.6, 0.5, 0.5, 0.4, 0.5, 0.8, 0.6, 0.6, 0.3, 0.4, 0.4, 0.4, 0.7, 0.6, 0.3, 0.6, 0.4, 0.5, 0.3, 0.4, 0.5, 0.5, 0.4, 0.6, 0.4, 0.6, 0.4, 0.5, 0.4, 0.5, 0.4, 0.5, 0.7, 0.6, 0.8, 0.4, 0.3, 0.3, 0.5, 0.5, 0.6, 0.5, 0.5, 0.5, 0.4, 0.1, 0.4, 0.3, 0.6, 0.4, 0.5, 0.5, 0.1, 0.6, 0.9, 0.4, 0.9, 0.4, 0.5, 0.2, 0.7, 0.3, 0.5, 0.5, 0.4, 0.4, 0.4, 0.2, 0.2, 0.3, 0.5, 0.3, 0.7, 0.4, 0.5, 0.4, 0.4, 0.7, 0.7, 0.7, 0.6, 0.4, 0.5, 0.3, 0.7, 0.4, 0.3, 0.7, 0.7, 0.4, 0.5, 0.7, 0.5, 0.5, 0.7, 0.4, 0.3, 0.2, 0.4, 0.1, 0.4, 0.4, 0.2, 0.4, 0.4, 0.5, 0.4, 0.4, 0.5, 0.6, 0.6, 0.4, 0.7, 0.5, 0.4, 0.5, 0.4, 0.6, 0.8, 0.6, 0.7, 0.6, 0.5, 0.7, 0.4, 0.6, 0.3, 0.3, 0.5, 0.5, 0.6, 0.7, 0.5, 0.6, 0.7, 0.4, 0.5, 0.4, 0.5, 0.3, 0.5, 0.5, 0.5, 0.6, 0.4, 0.1, 0.7, 0.7, 0.4, 0.5, 0.6, 0.3, 0.7, 0.4, 0.3, 0.8, 0.6, 0.5, 0.4, 0.3, 0.7, 0.5, 0.2, 0.4, 0.4, 0.7, 0.7, 0.4, 0.6, 0.6, 0.5, 0.5, 0.6, 0.5, 0.4, 0.5, 0.4, 0.5, 0.6, 0.6, 0.2, 0.4, 0.6, 0.6, 0.4, 0.6, 0.1, 0.4, 0.5, 0.5, 0.4, 0.7, 0.7, 0.3, 0.3, 0.8, 0.3, 0.6, 0.5, 0.5, 0.3, 0.7, 0.7, 0.5, 0.6, 0.6, 0.5, 0.2, 0.4, 0.7, 0.4, 0.6, 0.6, 0.5, 0.3, 0.5, 0.5, 0.5, 0.4, 0.1, 0.4, 0.5, 0.4, 0.4, 0.6, 0.6, 0.6, 0.4, 0.4, 0.6, 0.6, 0.6, 0.7, 0.6, 0.5, 0.7, 0.6, 0.5, 0.2, 0.5, 0.4, 0.6, 0.3, 0.2, 0.4, 0.3, 0.8, 0.5, 0.3, 0.5, 0.4, 0.5, 0.4, 0.6, 0.7, 0.7, 0.7, 0.3, 0.5, 0.5, 0.5, 0.4, 0.3, 0.7, 0.4, 0.5, 0.3, 0.6, 0.5, 0.6, 0.1, 0.4, 0.5, 0.4, 0.2, 0.5, 0.3, 0.3, 0.4, 0.4, 0.8, 0.6, 0.4, 0.3, 0.4, 0.7, 0.5, 0.8, 0.6, 0.4, 0.3, 0.5, 0.5, 0.6, 0.4, 0.3, 0.7, 0.7, 0.4, 0.4, 0.5, 0.6, 0.4, 0.7, 0.2, 0.7, 0.5, 0.6, 0.4, 0.5, 0.5, 0.2, 0.2, 0.7, 0.5, 0.6, 0.6, 0.6, 0.3, 0.5, 0.5, 0.5, 0.6, 0.5, 0.2, 0.3, 0.5, 0.3, 0.6, 0.7, 0.7, 0.6, 0.5, 0.6, 0.6, 0.4, 0.7]\n"
     ]
    },
    {
     "data": {
      "image/png": "[encoded data removed]",
      "text/plain": [
       "<Figure size 432x288 with 1 Axes>"
      ]
     },
     "metadata": {
      "needs_background": "light"
     },
     "output_type": "display_data"
    }
   ],
   "source": [
    "from random import *\n",
    "import matplotlib.pyplot as plt\n",
    "\n",
    "def Proba_du_un(n):\n",
    "  S=0\n",
    "  for i in range (n):     \n",
    "    x=randint (0,1) \n",
    "    S=S+x\n",
    "  return (S/n)\n",
    "\n",
    "#print (Proba_du_un(100))\n",
    "\n",
    "def echantillon2():\n",
    "  Liste=[]\n",
    "  for i in range (1000):\n",
    "    Liste.append(Proba_du_un(10))\n",
    "  return (Liste)\n",
    "\n",
    "print (echantillon2())\n",
    "\n",
    "L=echantillon2() \n",
    "plt.hist(L, bins=[0,0.1,0.2,0.3,0.4,0.5,0.6,0.7,0.8,0.9,1], edgecolor='red')\n",
    "plt.title(\"Histogramme des fréquences observées des 1\", fontsize=15)\n",
    "plt.xlabel(\"Fréquences observées\")\n",
    "plt.ylabel(\"Nombre d'échantillons\")\n",
    "plt.show()"
   ]
  },
  {
   "cell_type": "markdown",
   "metadata": {
    "colab_type": "text",
    "id": "C9JULfQDzkrU"
   },
   "source": [
    "**12°) Nuage de points de la situation précédente:**\n",
    "*   Exécuter-le.\n",
    "*   Modifier-le pour que vous obteniez une simulation fournissant les fréquences observées de 1 pour 1000 échantillons établit avec:\n",
    "    * 50 lancers d'une pièce.\n",
    "    * 100 lancers d'une pièce.\n",
    "    * Interpréter les modifications sur le nuage de points.\n"
   ]
  },
  {
   "cell_type": "code",
   "execution_count": 41,
   "metadata": {
    "colab": {
     "base_uri": "https://localhost:8080/",
     "height": 298
    },
    "colab_type": "code",
    "id": "0N4Ds-N_zt9I",
    "outputId": "a82956c3-491a-4244-c840-a350221496d7"
   },
   "outputs": [
    {
     "name": "stdout",
     "output_type": "stream",
     "text": [
      "L'écart-type de la série est égale à 0.163\n"
     ]
    },
    {
     "data": {
      "image/png": "[encoded data removed]",
      "text/plain": [
       "<Figure size 432x288 with 1 Axes>"
      ]
     },
     "metadata": {
      "needs_background": "light"
     },
     "output_type": "display_data"
    }
   ],
   "source": [
    "from random import *\n",
    "import statistics\n",
    "import matplotlib.pyplot as plt\n",
    "\n",
    "x=[]\n",
    "for i in range(1,1001):\n",
    "  x.append(i)\n",
    "\n",
    "L=echantillon2() \n",
    "\n",
    "ecarType=statistics.stdev(L)   #calcul de l'écart-type de la série des fréquences observées de 1\n",
    "print(\"L'écart-type de la série est égale à\",round(ecarType,3)) #Arrondir à 0,001 près.\n",
    "\n",
    "plt.scatter(x,L)\n",
    "plt.title(\"Nuage de points des fréquences observées des 1\", fontsize=15)\n",
    "plt.xlabel(\"Numéro des échantillons\")\n",
    "plt.ylabel(\"Probabilités du un\")\n",
    "plt.show()"
   ]
  },
  {
   "cell_type": "markdown",
   "metadata": {},
   "source": [
    "**13°) Interprétation des résultats**\n",
    "\n",
    "On note *s* l'écart-type et *p* la proportion théorique d'obtention du PILE dans le lancer d'une pièce."
   ]
  },
  {
   "cell_type": "code",
   "execution_count": 26,
   "metadata": {
    "scrolled": true
   },
   "outputs": [
    {
     "name": "stdout",
     "output_type": "stream",
     "text": [
      "L'intervalle [p-1*s,p+1*s] est :  [0.34, 0.66]\n",
      "La proportion de points entre [p-1*s,p+1*s] est  0.659\n",
      "L'intervalle [p-2*s,p+2*s] est :  [0.172, 0.828]\n",
      "La proportion de points entre [p-2*s,p+2*s] est  0.98\n",
      "L'intervalle [p-3*s,p+3*s] est :  [0.025, 0.975]\n",
      "La proportion de points entre [p-3*s,p+3*s] est  0.998\n"
     ]
    },
    {
     "data": {
      "image/png": "[encoded data removed]",
      "text/plain": [
       "<Figure size 1440x432 with 1 Axes>"
      ]
     },
     "metadata": {
      "needs_background": "light"
     },
     "output_type": "display_data"
    }
   ],
   "source": [
    "from random import *\n",
    "import statistics\n",
    "fig, (ax1) = plt.subplots(1, figsize=(20, 6))\n",
    "\n",
    "def bornes(L,k):  #Détermine les bornes de l'intervalle d'étude\n",
    "    p = 0.5\n",
    "    s =statistics.stdev(L) #calcul de l'écart-type de la série des fréquences observées de 1\n",
    "    return [round(p-k*s,3),round(p+k*s,3)]\n",
    "\n",
    "def propPoints(L,k):   #Détermine la proportions de points situés dans l'intervalle d'étude\n",
    "    b,B = bornes(L,k)\n",
    "    filtre = [x for x in L if x<=B and x>=b]\n",
    "    return len(filtre)/len(L)\n",
    "\n",
    "for k in range (1,4):\n",
    "    print (\"L'intervalle [p-{0}*s,p+{0}*s] est : \".format(k), bornes(echantillon2(),k))\n",
    "    print (\"La proportion de points entre [p-{0}*s,p+{0}*s] est \".format(k),propPoints(echantillon2(),k))\n",
    "\n",
    "i1,s1 =  bornes(echantillon2(),1)\n",
    "i2,s2 =  bornes(echantillon2(),2)\n",
    "i3,s3 =  bornes(echantillon2(),3)\n",
    "\n",
    "ax1.plot(echantillon2(),'bo')\n",
    "ax1.plot([0,1000],[i1,i1],'r--',label='k=1')\n",
    "ax1.plot([0,1000],[s1,s1],'r--')\n",
    "ax1.plot([0,1000],[i2,i2],'m-.',label='k=2')\n",
    "ax1.plot([0,1000],[s2,s2],'m-.')\n",
    "ax1.plot([0,1000],[i3,i3],'y:',label='k=3')\n",
    "ax1.plot([0,1000],[s3,s3],'y:')\n",
    "ax1.legend(bbox_to_anchor=(1.01, 1), loc=2, borderaxespad=0.)\n",
    "plt.show()"
   ]
  },
  {
   "cell_type": "code",
   "execution_count": null,
   "metadata": {},
   "outputs": [],
   "source": []
  }
 ],
 "metadata": {
  "colab": {
   "collapsed_sections": [],
   "name": "ActivitéBernoulli1STMG.ipynb",
   "provenance": []
  },
  "kernelspec": {
   "display_name": "Python 3",
   "language": "python",
   "name": "python3"
  },
  "language_info": {
   "codemirror_mode": {
    "name": "ipython",
    "version": 3
   },
   "file_extension": ".py",
   "mimetype": "text/x-python",
   "name": "python",
   "nbconvert_exporter": "python",
   "pygments_lexer": "ipython3",
   "version": "3.7.6"
  }
 },
 "nbformat": 4,
 "nbformat_minor": 4
}
