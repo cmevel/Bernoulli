{
  "nbformat": 4,
  "nbformat_minor": 0,
  "metadata": {
    "colab": {
      "name": "ActivitéBernoulli1STMG.ipynb",
      "provenance": [],
      "collapsed_sections": []
    },
    "kernelspec": {
      "name": "python3",
      "display_name": "Python 3"
    }
  },
  "cells": [
    {
      "cell_type": "markdown",
      "metadata": {
        "id": "qhvCTdKOioRL",
        "colab_type": "text"
      },
      "source": [
        "# Activité découverte d'une épreuve de Bernoulli et simulations d'échantillons"
      ]
    },
    {
      "cell_type": "markdown",
      "metadata": {
        "id": "bo5E4X8di9YH",
        "colab_type": "text"
      },
      "source": [
        "En période de confinement, jouer à un jeu sur console est une occupation comme une autre. Malheureusement, Emma et Noan n'arrivent pas à se mettre d'accord sur le choix du jeu. La première serait davantage intéressée vers un jeu d'aventure alors que le deuxième lui voudrait mettre un jeu de combat. \n",
        "Pour faciliter leur décision, leurs parents les invitent à jouer au jeu du **PILE ou FACE**.\n",
        "*Emma choisit le côté PILE* et *Noan le côté FACE*."
      ]
    },
    {
      "cell_type": "markdown",
      "metadata": {
        "id": "Dx56q0bJk_Qf",
        "colab_type": "text"
      },
      "source": [
        "**1°) Situation 0:** Ils lancent une pièce non truquée. \n",
        "* Quelle est la probabilité que le côté visible soit PILE ? \n",
        "* Et FACE ?"
      ]
    },
    {
      "cell_type": "markdown",
      "metadata": {
        "id": "hstlnSX9lYjl",
        "colab_type": "text"
      },
      "source": [
        "Emma considère que Noan triche lorsqu'il lance la pièce et que cela influe sur le résultat. Aussi, leurs parents les convient à utiliser une solution programmée pour que l'humain n'intervienne plus dans le lancer.\n",
        "\"Bonne idée\" se disent-ils à ce moment-là... "
      ]
    },
    {
      "cell_type": "markdown",
      "metadata": {
        "id": "R7I0rJdWmEEN",
        "colab_type": "text"
      },
      "source": [
        " **2°)** **Situation 1:** Voici une fonction en langage Python. \n",
        "\n",
        "1.   Exécuter-la en cliquant sur la flèche\n",
        "      * Que vous renvoie-t-elle ? \n",
        "2.   Exécuter la plusieurs fois.\n",
        "      * Est-ce toujours la même réponse ?\n",
        "3.   Comment définir le PILE et le FACE pour qu'il puisse répondre au besoin d'Emma et Noan ?"
      ]
    },
    {
      "cell_type": "code",
      "metadata": {
        "id": "wxpg9uPymOve",
        "colab_type": "code",
        "colab": {
          "base_uri": "https://localhost:8080/",
          "height": 34
        },
        "outputId": "c80a9c67-c844-4271-df29-e736e9459258"
      },
      "source": [
        "from random import *\n",
        "\n",
        "def piece():\n",
        "  x=randint(0,1)        #randint(a,b) retourne aléatoirement un entier entre a et b\n",
        "  return x\n",
        "\n",
        "print (piece())"
      ],
      "execution_count": 284,
      "outputs": [
        {
          "output_type": "stream",
          "text": [
            "1\n"
          ],
          "name": "stdout"
        }
      ]
    },
    {
      "cell_type": "markdown",
      "metadata": {
        "id": "xDFN6SPLznHY",
        "colab_type": "text"
      },
      "source": [
        "**3°)** **Situation 2 :** Après reflexion, Emma et Noan estime qu'il faudrait avoir une majorité de piles ou de faces lorsqu'on lance la pièce un nombre de fois donné. Leurs parents leurs proposent ce programme."
      ]
    },
    {
      "cell_type": "code",
      "metadata": {
        "id": "2u_gPJyBinLU",
        "colab_type": "code",
        "colab": {
          "base_uri": "https://localhost:8080/",
          "height": 34
        },
        "outputId": "86babdec-3147-4c5b-a485-ba1985209ed1"
      },
      "source": [
        "from random import *\n",
        "\n",
        "def jeu1():\n",
        "  S=0\n",
        "  for i in range (5):     #range (5) signifie que i prend successivement les valeurs de la liste [0,1,2,3,4]\n",
        "    x=randint(0,1)        #randint(a,b) retourne aléatoirement un entier entre a et b\n",
        "    S=S+x\n",
        "  return (S)\n",
        "\n",
        "print (jeu1())"
      ],
      "execution_count": 285,
      "outputs": [
        {
          "output_type": "stream",
          "text": [
            "3\n"
          ],
          "name": "stdout"
        }
      ]
    },
    {
      "cell_type": "markdown",
      "metadata": {
        "id": "Ok6mPV0V1cHl",
        "colab_type": "text"
      },
      "source": [
        "1.   Combien de fois la pièce est-elle lancée ?\n",
        "2.   Que représente la variable S retournée par la fonction jeu1() ?\n",
        "3.   Est-ce toujours le même enfant qui gagne ?"
      ]
    },
    {
      "cell_type": "markdown",
      "metadata": {
        "id": "hUthA01C2euv",
        "colab_type": "text"
      },
      "source": [
        "4°) **Situation 3:** La fonction jeu1() a été modifiée. \n",
        "* Exécuter-le.\n",
        "* Interpréter le résultat dans le contexte de l'exercice. "
      ]
    },
    {
      "cell_type": "code",
      "metadata": {
        "id": "QKmb8YsfGXiu",
        "colab_type": "code",
        "colab": {
          "base_uri": "https://localhost:8080/",
          "height": 34
        },
        "outputId": "7541b86a-be37-4d67-e0bc-fe8d8a59b4a0"
      },
      "source": [
        "from random import *\n",
        "\n",
        "def jeu2():\n",
        "  S=0\n",
        "  for i in range (10):     \n",
        "    x=randint (0,1) \n",
        "    S=S+x\n",
        "  return (S/10)\n",
        "\n",
        "print(jeu2())"
      ],
      "execution_count": 286,
      "outputs": [
        {
          "output_type": "stream",
          "text": [
            "0.4\n"
          ],
          "name": "stdout"
        }
      ]
    },
    {
      "cell_type": "markdown",
      "metadata": {
        "id": "LkYHzENLG4-u",
        "colab_type": "text"
      },
      "source": [
        "5°) On appelle épreuve de Bernoulli, une expérience aléatoire n'ayant que deux issues. L'une est considérée comme le Succès et l'autre comme l'Echec. Laquelle des situations 1, 2 ou 3 est une épreuve de Bernoulli?"
      ]
    },
    {
      "cell_type": "markdown",
      "metadata": {
        "id": "c1hX9CJCImV3",
        "colab_type": "text"
      },
      "source": [
        "6°) La probabilité d'avoir le Succès est le paramètre *p* de cette épreuve. Quelle est la valeur du paramètre *p* dans la situation 2 ? "
      ]
    },
    {
      "cell_type": "markdown",
      "metadata": {
        "id": "vTwJVgC5JDfr",
        "colab_type": "text"
      },
      "source": [
        "7°) On définit la variable aléatoire X qui prend la valeur 1 en cas de succès et 0 en cas d'échec.\n",
        "Ainsi P(X=1) signifie obtenir un succès dans le jeu situation 1.\n",
        "* Que signifie P(X=0) ? \n",
        "* Quelle est sa valeur ?"
      ]
    },
    {
      "cell_type": "markdown",
      "metadata": {
        "id": "n8nZBHiNJm0g",
        "colab_type": "text"
      },
      "source": [
        "8°) Déterminer alors la loi de probabilité de la situation 1 que l'on appellera Loi de Bernoulli."
      ]
    },
    {
      "cell_type": "markdown",
      "metadata": {
        "id": "vGI6FTCKJ1lD",
        "colab_type": "text"
      },
      "source": [
        "9°) Déterminer l'espérance de la variable aléatoire X dans la situation 1."
      ]
    },
    {
      "cell_type": "markdown",
      "metadata": {
        "id": "yfNGSpACLgUH",
        "colab_type": "text"
      },
      "source": [
        "**10°) Situation 4:** Simulation sur un échantillon\n",
        "\n",
        "*   Exécuter-le.\n",
        "*   Interpréter le résultat retourné par la fonction *echantillon1()*\n",
        "\n"
      ]
    },
    {
      "cell_type": "code",
      "metadata": {
        "id": "1RRstItbNpUS",
        "colab_type": "code",
        "colab": {
          "base_uri": "https://localhost:8080/",
          "height": 34
        },
        "outputId": "94d7fac2-9425-4b18-d3db-b332e37d327e"
      },
      "source": [
        "from random import *\n",
        "\n",
        "def echantillon1():\n",
        "  L=[]             #Création d'une liste vide\n",
        "  for i in range (10):\n",
        "    L.append(piece())      #Remplir la liste L \n",
        "  return (L)\n",
        "\n",
        "print (echantillon1())"
      ],
      "execution_count": 287,
      "outputs": [
        {
          "output_type": "stream",
          "text": [
            "[0, 1, 1, 0, 1, 1, 0, 1, 0, 1]\n"
          ],
          "name": "stdout"
        }
      ]
    },
    {
      "cell_type": "markdown",
      "metadata": {
        "id": "nGjDrdJLbOc4",
        "colab_type": "text"
      },
      "source": [
        "**11°) Histogramme d'une nouvelle situation :**\n",
        "\n",
        "*   Exécuter-le\n",
        "*   Modifier-le pour que vous obteniez une simulation fournissant un échantillon de 1000 probabilités d'obtenir le chiffre 1 désignant PILE établit avec:\n",
        "    * 50 lancers d'une pièce.\n",
        "    * 100 lancers d'une pièce.\n",
        "    * Interpréter les modifications de l'histogramme.\n",
        "\n"
      ]
    },
    {
      "cell_type": "code",
      "metadata": {
        "id": "45BKx_c7ceHv",
        "colab_type": "code",
        "colab": {
          "base_uri": "https://localhost:8080/",
          "height": 299
        },
        "outputId": "b3579a67-01d2-4f94-e863-a0c9ade19a50"
      },
      "source": [
        "from random import *\n",
        "import matplotlib.pyplot as plt\n",
        "\n",
        "def Proba_du_un(n):\n",
        "  S=0\n",
        "  for i in range (n):     \n",
        "    x=randint (0,1) \n",
        "    S=S+x\n",
        "  return (S/n)\n",
        "\n",
        "#print (Proba_du_un(100))\n",
        "\n",
        "def echantillon2():\n",
        "  Liste=[]\n",
        "  for i in range (1000):\n",
        "    Liste.append(Proba_du_un(10))\n",
        "  return (Liste)\n",
        "\n",
        "#print (echantillon2())\n",
        "\n",
        "L=echantillon2() \n",
        "plt.hist(L, bins=[0,0.1,0.2,0.3,0.4,0.5,0.6,0.7,0.8,0.9,1], edgecolor='red')\n",
        "plt.title(\"Histogramme des fréquences observées des 1\", fontsize=15)\n",
        "plt.xlabel(\"Fréquences observées\")\n",
        "plt.ylabel(\"Nombre d'échantillons\")\n",
        "plt.show()"
      ],
      "execution_count": 288,
      "outputs": [
        {
          "output_type": "display_data",
          "data": {
            "image/png": "[encoded data removed]",
            "text/plain": [
              "<Figure size 432x288 with 1 Axes>"
            ]
          },
          "metadata": {
            "tags": [],
            "needs_background": "light"
          }
        }
      ]
    },
    {
      "cell_type": "markdown",
      "metadata": {
        "id": "C9JULfQDzkrU",
        "colab_type": "text"
      },
      "source": [
        "**12°) Nuage de points de la situation précédente:**\n",
        "*   Exécuter-le.\n",
        "*   Modifier-le pour que vous obteniez une simulation fournissant un échantillon de 1000 probabilités d'obtenir le chiffre 1 désignant PILE établit avec:\n",
        "    * 50 lancers d'une pièce.\n",
        "    * 100 lancers d'une pièce.\n",
        "    * Interpréter les modifications sur le nuage de points.\n"
      ]
    },
    {
      "cell_type": "code",
      "metadata": {
        "id": "0N4Ds-N_zt9I",
        "colab_type": "code",
        "colab": {
          "base_uri": "https://localhost:8080/",
          "height": 298
        },
        "outputId": "a82956c3-491a-4244-c840-a350221496d7"
      },
      "source": [
        "from random import *\n",
        "import matplotlib.pyplot as plt\n",
        "\n",
        "x=[]\n",
        "for i in range(1,1001):\n",
        "  x.append(i)\n",
        "\n",
        "L=echantillon2() \n",
        "\n",
        "plt.scatter(x,L)\n",
        "plt.title(\"Nuage de points des fréquences observées des 1\", fontsize=15)\n",
        "plt.xlabel(\"Numéro des échantillons\")\n",
        "plt.ylabel(\"Probabilités du un\")\n",
        "plt.show()"
      ],
      "execution_count": 289,
      "outputs": [
        {
          "output_type": "display_data",
          "data": {
            "image/png": "[encoded data removed]",
            "text/plain": [
              "<Figure size 432x288 with 1 Axes>"
            ]
          },
          "metadata": {
            "tags": [],
            "needs_background": "light"
          }
        }
      ]
    }
  ]
}